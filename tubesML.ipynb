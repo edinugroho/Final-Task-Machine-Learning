{
  "nbformat": 4,
  "nbformat_minor": 0,
  "metadata": {
    "colab": {
      "name": "tubesML.ipynb",
      "provenance": [],
      "collapsed_sections": [
        "jh-ekGl_Bvge",
        "D5kepnvFdS5I"
      ],
      "toc_visible": true
    },
    "kernelspec": {
      "name": "python3",
      "display_name": "Python 3"
    }
  },
  "cells": [
    {
      "cell_type": "markdown",
      "metadata": {
        "id": "AxaYs7vXFkMs",
        "colab_type": "text"
      },
      "source": [
        "# Persiapan Data"
      ]
    },
    {
      "cell_type": "code",
      "metadata": {
        "id": "PjoVOYiJ-lT2",
        "colab_type": "code",
        "outputId": "431dd8ea-007f-4db3-d8ff-f9bfb78bf933",
        "colab": {
          "base_uri": "https://localhost:8080/",
          "height": 87
        }
      },
      "source": [
        "import math\n",
        "import matplotlib as mpl\n",
        "import matplotlib.pyplot as plt\n",
        "import pandas as pd\n",
        "from sklearn.preprocessing import MinMaxScaler\n",
        "from pandas import DataFrame\n",
        "import numpy as np\n",
        "import seaborn as sns\n",
        "sns.set(style=\"darkgrid\")\n",
        "\n",
        "\n",
        "url = 'https://raw.githubusercontent.com/edinugroho/Final-Task-Machine-Learning/master/used_cars.csv'\n",
        "used_cars = pd.read_csv(url)\n",
        "\n",
        "used_cars.region = pd.factorize(used_cars.region)[0]\n",
        "used_cars.url = pd.factorize(used_cars.url)[0]\n",
        "used_cars.region_url = pd.factorize(used_cars.region_url)[0]\n",
        "used_cars.manufacturer = pd.factorize(used_cars.manufacturer)[0]\n",
        "used_cars.model = pd.factorize(used_cars.model)[0]\n",
        "used_cars.year = pd.factorize(used_cars.year)[0]\n",
        "used_cars.condition = pd.factorize(used_cars.condition)[0]\n",
        "used_cars.cylinders = pd.factorize(used_cars.cylinders)[0]\n",
        "used_cars.odometer = pd.factorize(used_cars.odometer)[0]\n",
        "used_cars.title_status = pd.factorize(used_cars.title_status)[0]\n",
        "used_cars.transmission = pd.factorize(used_cars.transmission)[0]\n",
        "used_cars.vin = pd.factorize(used_cars.vin)[0]\n",
        "used_cars.model = pd.factorize(used_cars.model)[0]\n",
        "used_cars.image_url = pd.factorize(used_cars.image_url)[0]\n",
        "used_cars.lat = pd.factorize(used_cars.lat)[0]\n",
        "used_cars.drive = pd.factorize(used_cars.drive)[0]\n",
        "used_cars['long'] = pd.factorize(used_cars['long'])[0]\n",
        "used_cars['size'] = pd.factorize(used_cars['size'])[0]\n",
        "used_cars['type'] = pd.factorize(used_cars['type'])[0]\n",
        "used_cars['paint_color'] = pd.factorize(used_cars['paint_color'])[0]\n",
        "used_cars['description'] = pd.factorize(used_cars['description'])[0]\n",
        "used_cars['county'] = pd.factorize(used_cars['county'])[0]\n",
        "used_cars['state'] = pd.factorize(used_cars['state'])[0]\n",
        "\n",
        "used_cars.fuel.unique()"
      ],
      "execution_count": 5,
      "outputs": [
        {
          "output_type": "stream",
          "text": [
            "/usr/local/lib/python3.6/dist-packages/statsmodels/tools/_testing.py:19: FutureWarning: pandas.util.testing is deprecated. Use the functions in the public API at pandas.testing instead.\n",
            "  import pandas.util.testing as tm\n"
          ],
          "name": "stderr"
        },
        {
          "output_type": "execute_result",
          "data": {
            "text/plain": [
              "array(['gas', 'diesel', 'other', nan, 'electric', 'hybrid'], dtype=object)"
            ]
          },
          "metadata": {
            "tags": []
          },
          "execution_count": 5
        }
      ]
    },
    {
      "cell_type": "code",
      "metadata": {
        "id": "5Ryo5qKkE6eC",
        "colab_type": "code",
        "colab": {}
      },
      "source": [
        "#save file\n",
        "used_cars.to_csv('clean-data.csv')"
      ],
      "execution_count": 0,
      "outputs": []
    },
    {
      "cell_type": "markdown",
      "metadata": {
        "id": "jh-ekGl_Bvge",
        "colab_type": "text"
      },
      "source": [
        "# Featue engineering"
      ]
    },
    {
      "cell_type": "code",
      "metadata": {
        "id": "UlgBKqs3FwD2",
        "colab_type": "code",
        "colab": {}
      },
      "source": [
        "import math\n",
        "import matplotlib as mpl\n",
        "import matplotlib.pyplot as plt\n",
        "import pandas as pd\n",
        "from sklearn.preprocessing import MinMaxScaler\n",
        "from pandas import DataFrame\n",
        "import numpy as np\n",
        "import seaborn as sns\n",
        "used_cars = pd.read_csv('clean-data.csv', index_col=False)\n",
        "used_cars.drop(['Unnamed: 0','Unnamed: 0.1'],axis=1, inplace=True)\n",
        "\n",
        "data_mean=used_cars.iloc[:,1:20]\n",
        "\n",
        "corr = data_mean.corr()\n",
        "# Generate a mask for the upper triangle\n",
        "mask = np.zeros_like(corr, dtype=np.bool)\n",
        "mask[np.triu_indices_from(mask)] = True\n",
        "\n",
        "# Set up the matplotlib figure\n",
        "data, ax = plt.subplots(figsize=(20, 20))\n",
        "plt.title('Fuel Feature Correlation')\n",
        "\n",
        "# Generate colormap\n",
        "cmap = sns.diverging_palette(260, 10, as_cmap=True)\n",
        "\n",
        "# membuat heatmap\n",
        "sns.heatmap(corr, vmax=1.2, square='square', cmap=cmap, mask=mask, \n",
        "            ax=ax,annot=True, fmt='.2g',linewidths=1)"
      ],
      "execution_count": 0,
      "outputs": []
    },
    {
      "cell_type": "code",
      "metadata": {
        "id": "uTJPKjyRXjZU",
        "colab_type": "code",
        "outputId": "d7f72e4f-d41d-4396-8836-25372b6eed89",
        "colab": {
          "base_uri": "https://localhost:8080/",
          "height": 387
        }
      },
      "source": [
        "plt.style.use('fivethirtyeight')\n",
        "sns.set_style(\"dark\")\n",
        "used_cars = pd.read_csv('clean-data.csv',usecols=['fuel','transmission','type'], index_col=False)\n",
        "# used_cars.drop(['Unnamed: 0','Unnamed: 0.1'],axis=1, inplace=True)\n",
        "used_cars\n",
        "# used_carsn = used_cars['fuel'],used_cars['type'],used_cars['transmission']\n",
        "g = sns.PairGrid(used_cars, hue='fuel')\n",
        "g = g.map_diag(plt.hist)\n",
        "g = g.map_offdiag(plt.scatter, s = 3)"
      ],
      "execution_count": 0,
      "outputs": [
        {
          "output_type": "display_data",
          "data": {
            "image/png": "[encoded data removed]",
            "text/plain": [
              "<Figure size 360x360 with 6 Axes>"
            ]
          },
          "metadata": {
            "tags": []
          }
        }
      ]
    },
    {
      "cell_type": "markdown",
      "metadata": {
        "id": "gwM6LQmzDYDq",
        "colab_type": "text"
      },
      "source": [
        "# Pre Processing"
      ]
    },
    {
      "cell_type": "code",
      "metadata": {
        "id": "5zkl4fWBD3Cq",
        "colab_type": "code",
        "colab": {}
      },
      "source": [
        "import pandas as pd\n",
        "used_cars = pd.read_csv('clean-data.csv',usecols=['fuel','transmission','type'], index_col=False)\n",
        "used_cars.dropna(inplace=True)\n",
        "X = used_cars.drop(['fuel'], axis = 1) #keluarkan dependen\n",
        "y = used_cars['fuel']"
      ],
      "execution_count": 0,
      "outputs": []
    },
    {
      "cell_type": "code",
      "metadata": {
        "id": "T_CZsz4h7cFq",
        "colab_type": "code",
        "colab": {}
      },
      "source": [
        "from sklearn import preprocessing\n",
        "le = preprocessing.LabelEncoder()\n",
        "y = pd.Series(le.fit_transform(y),name='fuel') #ubah ke angka"
      ],
      "execution_count": 0,
      "outputs": []
    },
    {
      "cell_type": "code",
      "metadata": {
        "id": "51ahkCVj7iZa",
        "colab_type": "code",
        "outputId": "57180164-1888-4db3-d8b9-e043dfcf06d9",
        "colab": {
          "base_uri": "https://localhost:8080/",
          "height": 343
        }
      },
      "source": [
        "combine = X.join(y)\n",
        "combine.head(10)"
      ],
      "execution_count": 22,
      "outputs": [
        {
          "output_type": "execute_result",
          "data": {
            "text/html": [
              "<div>\n",
              "<style scoped>\n",
              "    .dataframe tbody tr th:only-of-type {\n",
              "        vertical-align: middle;\n",
              "    }\n",
              "\n",
              "    .dataframe tbody tr th {\n",
              "        vertical-align: top;\n",
              "    }\n",
              "\n",
              "    .dataframe thead th {\n",
              "        text-align: right;\n",
              "    }\n",
              "</style>\n",
              "<table border=\"1\" class=\"dataframe\">\n",
              "  <thead>\n",
              "    <tr style=\"text-align: right;\">\n",
              "      <th></th>\n",
              "      <th>transmission</th>\n",
              "      <th>type</th>\n",
              "      <th>fuel</th>\n",
              "    </tr>\n",
              "  </thead>\n",
              "  <tbody>\n",
              "    <tr>\n",
              "      <th>0</th>\n",
              "      <td>0</td>\n",
              "      <td>0</td>\n",
              "      <td>2.0</td>\n",
              "    </tr>\n",
              "    <tr>\n",
              "      <th>1</th>\n",
              "      <td>1</td>\n",
              "      <td>-1</td>\n",
              "      <td>2.0</td>\n",
              "    </tr>\n",
              "    <tr>\n",
              "      <th>2</th>\n",
              "      <td>1</td>\n",
              "      <td>-1</td>\n",
              "      <td>2.0</td>\n",
              "    </tr>\n",
              "    <tr>\n",
              "      <th>3</th>\n",
              "      <td>1</td>\n",
              "      <td>-1</td>\n",
              "      <td>2.0</td>\n",
              "    </tr>\n",
              "    <tr>\n",
              "      <th>4</th>\n",
              "      <td>1</td>\n",
              "      <td>1</td>\n",
              "      <td>0.0</td>\n",
              "    </tr>\n",
              "    <tr>\n",
              "      <th>5</th>\n",
              "      <td>1</td>\n",
              "      <td>1</td>\n",
              "      <td>2.0</td>\n",
              "    </tr>\n",
              "    <tr>\n",
              "      <th>6</th>\n",
              "      <td>1</td>\n",
              "      <td>1</td>\n",
              "      <td>0.0</td>\n",
              "    </tr>\n",
              "    <tr>\n",
              "      <th>7</th>\n",
              "      <td>1</td>\n",
              "      <td>1</td>\n",
              "      <td>2.0</td>\n",
              "    </tr>\n",
              "    <tr>\n",
              "      <th>8</th>\n",
              "      <td>1</td>\n",
              "      <td>1</td>\n",
              "      <td>2.0</td>\n",
              "    </tr>\n",
              "    <tr>\n",
              "      <th>9</th>\n",
              "      <td>1</td>\n",
              "      <td>1</td>\n",
              "      <td>0.0</td>\n",
              "    </tr>\n",
              "  </tbody>\n",
              "</table>\n",
              "</div>"
            ],
            "text/plain": [
              "   transmission  type  fuel\n",
              "0             0     0   2.0\n",
              "1             1    -1   2.0\n",
              "2             1    -1   2.0\n",
              "3             1    -1   2.0\n",
              "4             1     1   0.0\n",
              "5             1     1   2.0\n",
              "6             1     1   0.0\n",
              "7             1     1   2.0\n",
              "8             1     1   2.0\n",
              "9             1     1   0.0"
            ]
          },
          "metadata": {
            "tags": []
          },
          "execution_count": 22
        }
      ]
    },
    {
      "cell_type": "code",
      "metadata": {
        "id": "g6ujQzW17lSI",
        "colab_type": "code",
        "outputId": "1775da48-295f-48ff-e157-ac13a7b3c6ac",
        "colab": {
          "base_uri": "https://localhost:8080/",
          "height": 289
        }
      },
      "source": [
        "combine['fuel'].unique()\n",
        "ax = sns.heatmap(combine.corr())\n",
        "from sklearn.preprocessing import StandardScaler\n",
        "norm = StandardScaler()\n",
        "norm.fit(X)"
      ],
      "execution_count": 23,
      "outputs": [
        {
          "output_type": "execute_result",
          "data": {
            "text/plain": [
              "StandardScaler(copy=True, with_mean=True, with_std=True)"
            ]
          },
          "metadata": {
            "tags": []
          },
          "execution_count": 23
        },
        {
          "output_type": "display_data",
          "data": {
            "image/png": "[encoded data removed]",
            "text/plain": [
              "<Figure size 432x288 with 2 Axes>"
            ]
          },
          "metadata": {
            "tags": []
          }
        }
      ]
    },
    {
      "cell_type": "markdown",
      "metadata": {
        "id": "VwB47yg2Fy7U",
        "colab_type": "text"
      },
      "source": [
        "MEMBUAT DATA TEST DAN DATA TRAIN"
      ]
    },
    {
      "cell_type": "code",
      "metadata": {
        "id": "GgKz8A8xFbMf",
        "colab_type": "code",
        "outputId": "b907cf29-ecc5-4bb7-a2df-1301f5436b02",
        "colab": {
          "base_uri": "https://localhost:8080/",
          "height": 84
        }
      },
      "source": [
        "from sklearn.model_selection import train_test_split\n",
        "X_train, X_test, y_train, y_test = train_test_split(X, y, test_size = 0.2, random_state = 20)\n",
        "print ('The size of our training \"X\" (input features) is', X_train.shape)\n",
        "print ('The size of our testing \"X\" (input features) is', X_test.shape)\n",
        "print ('The size of our training \"y\" (output feature) is', y_train.shape)\n",
        "print ('The size of our testing \"y\" (output features) is', y_test.shape)"
      ],
      "execution_count": 24,
      "outputs": [
        {
          "output_type": "stream",
          "text": [
            "The size of our training \"X\" (input features) is (15942, 2)\n",
            "The size of our testing \"X\" (input features) is (3986, 2)\n",
            "The size of our training \"y\" (output feature) is (15942,)\n",
            "The size of our testing \"y\" (output features) is (3986,)\n"
          ],
          "name": "stdout"
        }
      ]
    },
    {
      "cell_type": "markdown",
      "metadata": {
        "id": "uK9KRWzOINB2",
        "colab_type": "text"
      },
      "source": [
        "# SVM"
      ]
    },
    {
      "cell_type": "code",
      "metadata": {
        "id": "pDGdRBF_sQ0H",
        "colab_type": "code",
        "outputId": "5314a10e-de09-46cf-96c6-5be3e24cf12f",
        "colab": {
          "base_uri": "https://localhost:8080/",
          "height": 467
        }
      },
      "source": [
        "from sklearn.svm import SVC\n",
        "from sklearn.metrics import accuracy_score, confusion_matrix, classification_report\n",
        "svc_model = SVC()\n",
        "svc_model.fit(X_train, y_train)\n",
        "y_predict = svc_model.predict(X_test)\n",
        "print('akurasi : ',accuracy_score(y_test,y_predict))\n",
        "print(classification_report(y_test, y_predict))\n",
        "cmtx = pd.DataFrame(\n",
        "    confusion_matrix(y_test, y_predict, labels=[0,1,2,3,4]), \n",
        "    index=['gas', 'diesel', 'other', 'electric', 'hybrid'], \n",
        "    columns=['gas', 'diesel', 'other', 'electric', 'hybrid']\n",
        ")\n",
        "cmtx"
      ],
      "execution_count": 25,
      "outputs": [
        {
          "output_type": "stream",
          "text": [
            "akurasi :  0.8881083793276467\n",
            "              precision    recall  f1-score   support\n",
            "\n",
            "           0       0.80      0.01      0.02       317\n",
            "           1       0.00      0.00      0.00         6\n",
            "           2       0.89      1.00      0.94      3537\n",
            "           3       0.00      0.00      0.00        42\n",
            "           4       0.00      0.00      0.00        84\n",
            "\n",
            "    accuracy                           0.89      3986\n",
            "   macro avg       0.34      0.20      0.19      3986\n",
            "weighted avg       0.85      0.89      0.84      3986\n",
            "\n"
          ],
          "name": "stdout"
        },
        {
          "output_type": "stream",
          "text": [
            "/usr/local/lib/python3.6/dist-packages/sklearn/metrics/_classification.py:1272: UndefinedMetricWarning: Precision and F-score are ill-defined and being set to 0.0 in labels with no predicted samples. Use `zero_division` parameter to control this behavior.\n",
            "  _warn_prf(average, modifier, msg_start, len(result))\n"
          ],
          "name": "stderr"
        },
        {
          "output_type": "execute_result",
          "data": {
            "text/html": [
              "<div>\n",
              "<style scoped>\n",
              "    .dataframe tbody tr th:only-of-type {\n",
              "        vertical-align: middle;\n",
              "    }\n",
              "\n",
              "    .dataframe tbody tr th {\n",
              "        vertical-align: top;\n",
              "    }\n",
              "\n",
              "    .dataframe thead th {\n",
              "        text-align: right;\n",
              "    }\n",
              "</style>\n",
              "<table border=\"1\" class=\"dataframe\">\n",
              "  <thead>\n",
              "    <tr style=\"text-align: right;\">\n",
              "      <th></th>\n",
              "      <th>gas</th>\n",
              "      <th>diesel</th>\n",
              "      <th>other</th>\n",
              "      <th>electric</th>\n",
              "      <th>hybrid</th>\n",
              "    </tr>\n",
              "  </thead>\n",
              "  <tbody>\n",
              "    <tr>\n",
              "      <th>gas</th>\n",
              "      <td>4</td>\n",
              "      <td>0</td>\n",
              "      <td>313</td>\n",
              "      <td>0</td>\n",
              "      <td>0</td>\n",
              "    </tr>\n",
              "    <tr>\n",
              "      <th>diesel</th>\n",
              "      <td>0</td>\n",
              "      <td>0</td>\n",
              "      <td>6</td>\n",
              "      <td>0</td>\n",
              "      <td>0</td>\n",
              "    </tr>\n",
              "    <tr>\n",
              "      <th>other</th>\n",
              "      <td>1</td>\n",
              "      <td>0</td>\n",
              "      <td>3536</td>\n",
              "      <td>0</td>\n",
              "      <td>0</td>\n",
              "    </tr>\n",
              "    <tr>\n",
              "      <th>electric</th>\n",
              "      <td>0</td>\n",
              "      <td>0</td>\n",
              "      <td>42</td>\n",
              "      <td>0</td>\n",
              "      <td>0</td>\n",
              "    </tr>\n",
              "    <tr>\n",
              "      <th>hybrid</th>\n",
              "      <td>0</td>\n",
              "      <td>0</td>\n",
              "      <td>84</td>\n",
              "      <td>0</td>\n",
              "      <td>0</td>\n",
              "    </tr>\n",
              "  </tbody>\n",
              "</table>\n",
              "</div>"
            ],
            "text/plain": [
              "          gas  diesel  other  electric  hybrid\n",
              "gas         4       0    313         0       0\n",
              "diesel      0       0      6         0       0\n",
              "other       1       0   3536         0       0\n",
              "electric    0       0     42         0       0\n",
              "hybrid      0       0     84         0       0"
            ]
          },
          "metadata": {
            "tags": []
          },
          "execution_count": 25
        }
      ]
    },
    {
      "cell_type": "markdown",
      "metadata": {
        "id": "D5kepnvFdS5I",
        "colab_type": "text"
      },
      "source": [
        "# KNN"
      ]
    },
    {
      "cell_type": "code",
      "metadata": {
        "id": "KZDJPhTKtsUH",
        "colab_type": "code",
        "outputId": "4cb9c34a-5a83-4616-8a0a-5edf4c259d2e",
        "colab": {
          "base_uri": "https://localhost:8080/",
          "height": 467
        }
      },
      "source": [
        "from sklearn.neighbors import KNeighborsClassifier\n",
        "neigh = KNeighborsClassifier(n_neighbors=2)\n",
        "neigh.fit(X_train,y_train)\n",
        "y_predict = neigh.predict(X_test)\n",
        "print('akurasi : ',accuracy_score(y_test,y_predict))\n",
        "print(classification_report(y_test, y_predict))\n",
        "cmtx = pd.DataFrame(\n",
        "    confusion_matrix(y_test, y_predict, labels=[0,1,2,3,4]), \n",
        "    index=['gas', 'diesel', 'other', 'electric', 'hybrid'], \n",
        "    columns=['gas', 'diesel', 'other', 'electric', 'hybrid']\n",
        ")\n",
        "cmtx"
      ],
      "execution_count": 26,
      "outputs": [
        {
          "output_type": "stream",
          "text": [
            "akurasi :  0.8627696939287506\n",
            "              precision    recall  f1-score   support\n",
            "\n",
            "           0       0.31      0.31      0.31       317\n",
            "           1       0.00      0.00      0.00         6\n",
            "           2       0.91      0.94      0.93      3537\n",
            "           3       0.00      0.00      0.00        42\n",
            "           4       0.00      0.00      0.00        84\n",
            "\n",
            "    accuracy                           0.86      3986\n",
            "   macro avg       0.24      0.25      0.25      3986\n",
            "weighted avg       0.83      0.86      0.85      3986\n",
            "\n"
          ],
          "name": "stdout"
        },
        {
          "output_type": "stream",
          "text": [
            "/usr/local/lib/python3.6/dist-packages/sklearn/metrics/_classification.py:1272: UndefinedMetricWarning: Precision and F-score are ill-defined and being set to 0.0 in labels with no predicted samples. Use `zero_division` parameter to control this behavior.\n",
            "  _warn_prf(average, modifier, msg_start, len(result))\n"
          ],
          "name": "stderr"
        },
        {
          "output_type": "execute_result",
          "data": {
            "text/html": [
              "<div>\n",
              "<style scoped>\n",
              "    .dataframe tbody tr th:only-of-type {\n",
              "        vertical-align: middle;\n",
              "    }\n",
              "\n",
              "    .dataframe tbody tr th {\n",
              "        vertical-align: top;\n",
              "    }\n",
              "\n",
              "    .dataframe thead th {\n",
              "        text-align: right;\n",
              "    }\n",
              "</style>\n",
              "<table border=\"1\" class=\"dataframe\">\n",
              "  <thead>\n",
              "    <tr style=\"text-align: right;\">\n",
              "      <th></th>\n",
              "      <th>gas</th>\n",
              "      <th>diesel</th>\n",
              "      <th>other</th>\n",
              "      <th>electric</th>\n",
              "      <th>hybrid</th>\n",
              "    </tr>\n",
              "  </thead>\n",
              "  <tbody>\n",
              "    <tr>\n",
              "      <th>gas</th>\n",
              "      <td>99</td>\n",
              "      <td>0</td>\n",
              "      <td>218</td>\n",
              "      <td>0</td>\n",
              "      <td>0</td>\n",
              "    </tr>\n",
              "    <tr>\n",
              "      <th>diesel</th>\n",
              "      <td>0</td>\n",
              "      <td>0</td>\n",
              "      <td>6</td>\n",
              "      <td>0</td>\n",
              "      <td>0</td>\n",
              "    </tr>\n",
              "    <tr>\n",
              "      <th>other</th>\n",
              "      <td>197</td>\n",
              "      <td>0</td>\n",
              "      <td>3340</td>\n",
              "      <td>0</td>\n",
              "      <td>0</td>\n",
              "    </tr>\n",
              "    <tr>\n",
              "      <th>electric</th>\n",
              "      <td>0</td>\n",
              "      <td>0</td>\n",
              "      <td>42</td>\n",
              "      <td>0</td>\n",
              "      <td>0</td>\n",
              "    </tr>\n",
              "    <tr>\n",
              "      <th>hybrid</th>\n",
              "      <td>25</td>\n",
              "      <td>0</td>\n",
              "      <td>59</td>\n",
              "      <td>0</td>\n",
              "      <td>0</td>\n",
              "    </tr>\n",
              "  </tbody>\n",
              "</table>\n",
              "</div>"
            ],
            "text/plain": [
              "          gas  diesel  other  electric  hybrid\n",
              "gas        99       0    218         0       0\n",
              "diesel      0       0      6         0       0\n",
              "other     197       0   3340         0       0\n",
              "electric    0       0     42         0       0\n",
              "hybrid     25       0     59         0       0"
            ]
          },
          "metadata": {
            "tags": []
          },
          "execution_count": 26
        }
      ]
    },
    {
      "cell_type": "markdown",
      "metadata": {
        "id": "LKPfkiR6p87s",
        "colab_type": "text"
      },
      "source": [
        "\n",
        "# K-Mean\n"
      ]
    },
    {
      "cell_type": "code",
      "metadata": {
        "id": "rHPNbzwpqEhW",
        "colab_type": "code",
        "outputId": "12c912e2-9e65-45c1-c6f7-16e55c4dd6dd",
        "colab": {
          "base_uri": "https://localhost:8080/",
          "height": 269
        }
      },
      "source": [
        "import pandas as pd\n",
        "import matplotlib.pyplot as plt\n",
        "import random\n",
        "# used_cars = pd.read_csv('clean-data.csv',usecols=['fuel','transmission','type'], index_col=False)\n",
        "used_cars = pd.read_csv('clean-data.csv', index_col=False)\n",
        "# used_cars.dropnul(inplace=True)\n",
        "used_cars.replace(to_replace = 0, value = 1)\n",
        "x = used_cars['model']\n",
        "y = used_cars['odometer']\n",
        "# z = used_cars['transmission']\n",
        "plt.scatter(x,y)\n",
        "plt.show()"
      ],
      "execution_count": 7,
      "outputs": [
        {
          "output_type": "display_data",
          "data": {
            "image/png": "[encoded data removed]",
            "text/plain": [
              "<Figure size 432x288 with 1 Axes>"
            ]
          },
          "metadata": {
            "tags": []
          }
        }
      ]
    },
    {
      "cell_type": "code",
      "metadata": {
        "id": "KBcNX2cLsKhN",
        "colab_type": "code",
        "colab": {}
      },
      "source": [
        "def distance(k,x,y,z):  \n",
        "  dist = [[],[],[]]\n",
        "  for i in range(len(k)):\n",
        "    for j in range(len(x)):\n",
        "      x1 = np.sqrt((k[i][0]-x[j])**2 + (k[i][1]-y[j])**2)\n",
        "      dist[i].append(x1)\n",
        "  return (dist)"
      ],
      "execution_count": 0,
      "outputs": []
    },
    {
      "cell_type": "code",
      "metadata": {
        "id": "7UQugo3JsNpR",
        "colab_type": "code",
        "colab": {}
      },
      "source": [
        "def cluster(x,y,dist):\n",
        "  clust = [[[],[]],[[],[]],[[],[]]]\n",
        "  for i in range(len(x)):\n",
        "    min = dist[0][i]\n",
        "    for j in range(len(dist)):\n",
        "      if(dist[j][i] < min):\n",
        "        min = dist[j][i]\n",
        "    for l in range(len(dist)):\n",
        "      if(dist[l][i] == min):\n",
        "        clust[l][0].append(x[i])\n",
        "        clust[l][1].append(y[i])\n",
        "  return (clust)"
      ],
      "execution_count": 0,
      "outputs": []
    },
    {
      "cell_type": "code",
      "metadata": {
        "id": "CgyLFwZgsNct",
        "colab_type": "code",
        "colab": {}
      },
      "source": [
        "def newK(k):\n",
        "  ncluster = [[],[],[]]\n",
        "  nk0x = sum(k[0][0])/len(k[0][0])\n",
        "  nk0y = sum(k[0][1])/len(k[0][1])\n",
        "  ncluster[0].append(nk0x)\n",
        "  ncluster[0].append(nk0y)\n",
        "\n",
        "  nk1x = sum(k[1][0])/len(k[1][0])\n",
        "  nk1y = sum(k[1][1])/len(k[1][1])\n",
        "  ncluster[1].append(nk1x)\n",
        "  ncluster[1].append(nk1y)\n",
        "\n",
        "  nk2x = sum(k[2][0])/len(k[2][0])\n",
        "  nk2y = sum(k[2][1])/len(k[2][1])\n",
        "  ncluster[2].append(nk2x)\n",
        "  ncluster[2].append(nk2y)\n",
        "  return(ncluster)"
      ],
      "execution_count": 0,
      "outputs": []
    },
    {
      "cell_type": "code",
      "metadata": {
        "id": "rzON4tGdsRGg",
        "colab_type": "code",
        "outputId": "c97d002a-c3d5-453d-8b47-347e9f047573",
        "colab": {
          "base_uri": "https://localhost:8080/",
          "height": 269
        }
      },
      "source": [
        "centeroid = [[],[],[]]\n",
        "for i in range (3):\n",
        "  a = random.randrange(len(used_cars))\n",
        "  centeroid[i].append(used_cars.model[a])\n",
        "  centeroid[i].append(used_cars.odometer[a])\n",
        "\n",
        "cond = True\n",
        "while(cond == True):\n",
        "  jarak = distance(centeroid,x,y,used_cars)\n",
        "  clust = cluster(x,y,jarak)\n",
        "  centerold = newK(clust)\n",
        "  if(centeroid == centerold):\n",
        "    cond = False\n",
        "  else:\n",
        "    centeroid = centerold\n",
        "\n",
        "for i in range (len(clust)):\n",
        "  plt.scatter(clust[i][0],clust[i][1])\n",
        "\n",
        "for i in range (len(centeroid)):\n",
        "  plt.plot(centeroid[i][0],centeroid[i][1],'k*')"
      ],
      "execution_count": 15,
      "outputs": [
        {
          "output_type": "display_data",
          "data": {
            "image/png": "[encoded data removed]",
            "text/plain": [
              "<Figure size 432x288 with 1 Axes>"
            ]
          },
          "metadata": {
            "tags": []
          }
        }
      ]
    }
  ]
}